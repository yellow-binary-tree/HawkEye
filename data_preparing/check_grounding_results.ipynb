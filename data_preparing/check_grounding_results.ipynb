{
 "cells": [
  {
   "cell_type": "code",
   "execution_count": 5,
   "metadata": {},
   "outputs": [],
   "source": [
    "import numpy as np\n",
    "import json\n",
    "\n",
    "\n",
    "def calculate_iou(pred_span, gold_span):\n",
    "    gold_start, gold_end, pred_start, pred_end = gold_span[0], gold_span[1], pred_span[0], pred_span[1]\n",
    "    intersection = max(0, min(gold_end, pred_end) - max(gold_start, pred_start))\n",
    "    union = max(0, max(gold_end, pred_end) - min(gold_start, pred_start))\n",
    "    if union <= 0 or intersection <= 0:\n",
    "        return 0\n",
    "    return intersection / union\n",
    "\n",
    "\n",
    "def check_ans(pred_span, gold_spans):\n",
    "    if not isinstance(gold_spans[0], (list, tuple)):\n",
    "        gold_spans = [gold_spans]\n",
    "    return max([calculate_iou(pred_span, gold_span) for gold_span in gold_spans])\n",
    "\n",
    "\n",
    "def get_iou_at_different_turns(example, max_turns=4):\n",
    "    pred_answer_list = example['pred_answer_list'] + ['throughout'] * (max_turns - len(example['pred_answer_list']))\n",
    "    start, end = 0, example['duration']\n",
    "    \n",
    "    res_list = list()\n",
    "    for pred in pred_answer_list:\n",
    "        interval = (end - start) / 4\n",
    "        if pred == 'beginning':\n",
    "            end = end - 2*interval\n",
    "        elif pred == 'middle':\n",
    "            start, end = start + interval, end - interval\n",
    "        elif pred == 'end':\n",
    "            start = start + 2 * interval\n",
    "        res_list.append(check_ans((start, end), example['gt_span']))\n",
    "    return res_list\n"
   ]
  },
  {
   "cell_type": "code",
   "execution_count": null,
   "metadata": {},
   "outputs": [],
   "source": [
    "# change output_fname at your need\n",
    "output_fname = '../outputs/charades_sta-recursive_grounding-4_turns.jsonl'\n",
    "gold_fname = '../data/test-anno/charades_sta-recursive_grounding.json'\n",
    "gold_data = json.load(open(gold_fname))\n",
    "max_turns = 4\n",
    "\n",
    "res_list_all_turns = list()\n",
    "\n",
    "for line, gold in zip(open(output_fname), gold_data):\n",
    "    example = json.loads(line)\n",
    "    if example['duration'] is None: continue\n",
    "    example['gt_span'] = gold['answer']\n",
    "    res_list = get_iou_at_different_turns(example, max_turns)\n",
    "    res_list_all_turns.append(res_list)\n",
    "\n",
    "print(output_fname, 'num examples:', len(res_list_all_turns))\n",
    "for turns in range(max_turns):\n",
    "    print('turns: %d' % (turns + 1))\n",
    "    iou_list = [ious[turns] for ious in res_list_all_turns]\n",
    "    print('mean iou: %.4f' % np.mean(iou_list))\n",
    "    print('iou@0.3/0.5/0.7: %.4f/%.4f/%.4f' % tuple([len([i for i in iou_list if i > thres]) / len(iou_list) for thres in [0.3, 0.5, 0.7]]))\n"
   ]
  },
  {
   "cell_type": "code",
   "execution_count": null,
   "metadata": {},
   "outputs": [],
   "source": []
  }
 ],
 "metadata": {
  "kernelspec": {
   "display_name": "videochat",
   "language": "python",
   "name": "python3"
  },
  "language_info": {
   "codemirror_mode": {
    "name": "ipython",
    "version": 3
   },
   "file_extension": ".py",
   "mimetype": "text/x-python",
   "name": "python",
   "nbconvert_exporter": "python",
   "pygments_lexer": "ipython3",
   "version": "3.8.16"
  }
 },
 "nbformat": 4,
 "nbformat_minor": 2
}
